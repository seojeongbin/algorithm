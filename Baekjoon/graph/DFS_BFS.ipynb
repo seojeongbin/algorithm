{
 "cells": [
  {
   "cell_type": "markdown",
   "metadata": {},
   "source": [
    "- refer : https://www.youtube.com/watch?v=7C9RgOcvkvo&list=PLRx0vPvlEmdAghTr5mXQxGpHjWqSz0dgC&index=3\n",
    "- dfs, bfs 관련 강의내용 수강 후 내용 정리\n",
    "## 둘다 그냥 함수를 안보고 쓸줄 알면 완전 이해한 거임\n",
    "- 거꾸로 말하자면 두 내용에 해당하는 함수를 안보고 적을 줄 알아야함\n",
    "- 근데 생각보다 개 쉬움"
   ]
  },
  {
   "cell_type": "markdown",
   "metadata": {},
   "source": [
    "### 1. DFS\n",
    "- 깊이 우선 탐색\n",
    "- 주로 stack 으로 구현\n",
    "- 깊게갈 수 있을 때까지 stack에 넣고 더 갈 곳 없으면 stack에서 빼고 다시 그 시점에서 깊게 갈 수 있을 때까지"
   ]
  },
  {
   "cell_type": "markdown",
   "metadata": {},
   "source": [
    "![dfs](..\\png\\dfs.png)"
   ]
  },
  {
   "cell_type": "markdown",
   "metadata": {},
   "source": [
    "- stack은 탐색 순서를 구하기 위한 도구같은거고 탐색 결과는 별개임\n",
    "- 같은 조건이면 번호가 작은 것을 먼저 탐색함\n",
    "- stack 내부 : 1276 => 127 => 1278 => 127 => 12 => 13 => 134....\n",
    "- 결과 : 12768345 "
   ]
  },
  {
   "cell_type": "code",
   "execution_count": 2,
   "metadata": {},
   "outputs": [],
   "source": [
    "# 1. 각 노드별로 인접노드 정보를 matrix로 표현함 : 노드 별 인접노드 정보\n",
    "graph = [\n",
    "    [], ### 일부러 빈 리스트\n",
    "    [2, 3, 8], # 1번 인접 노드\n",
    "    [1, 7], # 2번 인접 노드\n",
    "    [1, 4, 5],\n",
    "    [3, 5],\n",
    "    [3, 4],\n",
    "    [7],\n",
    "    [2, 6, 8],\n",
    "    [1, 7]\n",
    "]\n",
    "\n",
    "# 2. 각 노드가 방문된 정보 초기 표현 : 노드별 방문여부를 표현 리스트\n",
    "visited = [False]*9 ### 일부러 8이 아닌 8+1\n",
    "\n",
    "### => 0번 인덱스는 일부러 사용안하려고 저렇게 하는건데, 결국 마지막에 더 직관적이게 하려고 하는 것임 (이렇게 안하면 결과를 -1해야 하는데 이것이 더 헷갈리게 됨)"
   ]
  },
  {
   "cell_type": "markdown",
   "metadata": {},
   "source": [
    "dfs 메서드\n",
    "- **일반적으로 graph가 인접행렬이고, 인자를 graph로 받는경우**\n",
    "- 해당 노드 방문처리\n",
    "- 노드 이웃한점에 대해서 방문안했으면 재귀\n",
    "    - 걍 개쉬움 dfs란 함수가 방문처리 한단 내용밖에 없음. 그리고 이웃한 노드 중 방문안했으면 dfs 적용한단거 ㅋㅋ"
   ]
  },
  {
   "cell_type": "code",
   "execution_count": 3,
   "metadata": {},
   "outputs": [],
   "source": [
    "# 3. DFS 메서드 정의\n",
    "def dfs(graph, v, visited) :\n",
    "    # 현재 노드 방문 처리\n",
    "    visited[v] = True\n",
    "    print(v, end=' ')\n",
    "    # 현재 노드의 각 인접 노드에 대해서 재귀적으로 방문 : 이렇게 재귀적으로 코드짜면서 방문처리하는게 곧 stack 원리임!\n",
    "    for i in graph[v]:\n",
    "        if not visited[i]:\n",
    "            dfs(graph, i, visited)"
   ]
  },
  {
   "cell_type": "code",
   "execution_count": 4,
   "metadata": {},
   "outputs": [
    {
     "name": "stdout",
     "output_type": "stream",
     "text": [
      "1 2 7 6 8 3 4 5 "
     ]
    }
   ],
   "source": [
    "dfs(graph, 1, visited)"
   ]
  },
  {
   "cell_type": "markdown",
   "metadata": {},
   "source": [
    "### 2. BFS\n",
    "![bfs](..\\png\\bfs.png)"
   ]
  },
  {
   "cell_type": "markdown",
   "metadata": {},
   "source": [
    "- 시작노드인 1을 큐에 넣고 방문 처리 / 1\n",
    "- 방문처리 했으면 1은 큐에서 빼고, 1 인접노드인 2 3 8 큐에 넣고 방문 처리 / 2 3 8\n",
    "- 방문처리 했으면 2 꺼내고 2 인접 노드인 7 큐 넣고 방문 처리 / 3 8 7\n",
    "- 방문처리 했으면 3 꺼내고 3 인접 노드인 4, 5 큐 삽입하고 방문 처리 / 8 7 4 5\n",
    "- -> 12387456"
   ]
  },
  {
   "cell_type": "markdown",
   "metadata": {},
   "source": [
    "bfs\n",
    "- 이것도 dfs랑 진짜 거의 같음\n",
    "- 방문처리한단거랑 queue에 넣는다는 내용 밖에 없음 + 이웃하면서 방문안한거 재귀\n",
    "    - 근데 queue 넣는다는걸 처음에는 ([])로 하고 그 담엔 append\n",
    "    - 재귀 방식을 여기선 while로 ㅇㅇ"
   ]
  },
  {
   "cell_type": "code",
   "execution_count": 1,
   "metadata": {},
   "outputs": [],
   "source": [
    "from collections import deque\n",
    "\n",
    "def bfs(graph, start, visited):\n",
    "    # queue 정의\n",
    "    queue = deque([start]) # 이건 첫 원소로 start를 넣은거임\n",
    "    # 현재 노드 방문 처리\n",
    "    visited[start] = True\n",
    "    # 큐가 빌 때까지 반복\n",
    "    while queue:\n",
    "        # 큐에서 하나의 원소를 뽑아 출력\n",
    "        v = queue.popleft() # 이게 큐에서 일반적인 pop이라 생각하면됨\n",
    "        print(v, end=' ')\n",
    "        # 아직 방문하지 않은 인접한 원소들을 큐에 삽입\n",
    "        for i in graph[v]:\n",
    "            if not visited[i]:\n",
    "                queue.append(i)\n",
    "                visited[i] = True"
   ]
  },
  {
   "cell_type": "code",
   "execution_count": 2,
   "metadata": {},
   "outputs": [
    {
     "name": "stdout",
     "output_type": "stream",
     "text": [
      "1 2 3 8 7 4 5 6 "
     ]
    }
   ],
   "source": [
    "graph = [\n",
    "    [],\n",
    "    [2, 3, 8], \n",
    "    [1, 7],\n",
    "    [1, 4, 5],\n",
    "    [3, 5],\n",
    "    [3, 4],\n",
    "    [7],\n",
    "    [2, 6, 8],\n",
    "    [1, 7]\n",
    "]\n",
    "\n",
    "visited = [False]*9 \n",
    "\n",
    "bfs(graph, 1, visited)"
   ]
  },
  {
   "cell_type": "markdown",
   "metadata": {},
   "source": [
    "### DFS 활용문제\n",
    "- 혹시나 이거 재귀함수 쓰는 거는 메모리 오버되면 커널 죽을 수 있음 그럼 py로 옮겨서 해보기!!"
   ]
  },
  {
   "cell_type": "markdown",
   "metadata": {},
   "source": [
    "![ex](..\\png\\ex.png)"
   ]
  },
  {
   "cell_type": "markdown",
   "metadata": {},
   "source": [
    "![condition1](..\\png\\condition1.png)"
   ]
  },
  {
   "cell_type": "markdown",
   "metadata": {},
   "source": [
    "- 우선 위의 얼음공간을 <그래프 형태>로 생각할 수 있음\n",
    "1. 해당 노드 방문안했으면서 & 이웃 값 0 있는 경우 해당 지점 방문 **(방문표시 : 1로바뀜 => 어차피 못가는 영역 의미)**\n",
    "2. 방문하게 된 각각의 그 지점에서(이게 곧 dfs알 수 있는 부분) 다시 이웃 살펴보면서 방문을 진행하는 과정을 반복하면 연결된 모든 지점 방문가능\n",
    "3. 모든 노드에 대하여 위의 과정을 반복하여 방문하지 않은 지점의 수 카운트\n",
    "- **개수판단법 : 현재 위치에서 처음 방문한 것인 경우 (현재위치에서 dfs에서 발생한 경우) result +=1**"
   ]
  },
  {
   "cell_type": "code",
   "execution_count": 7,
   "metadata": {},
   "outputs": [],
   "source": [
    "# 재귀함수 한도 늘려줌\n",
    "import sys\n",
    "sys.setrecursionlimit(10**7)"
   ]
  },
  {
   "cell_type": "code",
   "execution_count": 8,
   "metadata": {},
   "outputs": [
    {
     "data": {
      "text/plain": [
       "[[0, 0, 1, 1, 0], [0, 0, 0, 1, 1], [1, 1, 1, 1, 1], [0, 0, 0, 0, 0]]"
      ]
     },
     "execution_count": 8,
     "metadata": {},
     "output_type": "execute_result"
    }
   ],
   "source": [
    "# 입출력 (4, 5)\n",
    "n, m = map(int, input().split())\n",
    "\n",
    "# 2차원 리스트의 맵 정보 입력 받기 (방문여부 체크할 용도)\n",
    "graph = []\n",
    "for i in range(n):\n",
    "    graph.append(list(map(int, input())))\n",
    "    \n",
    "graph"
   ]
  },
  {
   "cell_type": "markdown",
   "metadata": {},
   "source": [
    "**graph가 인접행렬이 아닌 지형정보이고, 인자가 좌표인경우**\n",
    "- 기존에 쓰던 graph가 인접행렬이 아니라는 점에서 시작하게 됨\n",
    "- 2667.py 참고"
   ]
  },
  {
   "cell_type": "code",
   "execution_count": 9,
   "metadata": {},
   "outputs": [],
   "source": [
    "def dfs(x, y):\n",
    "    # 주어진 틀 범위 벗어나면 즉시 종료 ㅇㅇ\n",
    "    if x <= -1 or x >= n or y <= -1 or y >= m :\n",
    "        return False\n",
    "    # 지금 여기가 방문안한곳이라면 방문처리\n",
    "    if graph[x][y] == 0 :\n",
    "        graph[x][y] = 1\n",
    "        # 상하좌우로 이웃한 노드들도 재귀적으로 적용\n",
    "        dfs(x-1, y)\n",
    "        dfs(x, y-1)\n",
    "        dfs(x+1, y)\n",
    "        dfs(x, y+1)\n",
    "        # 현재위치가 처음방문한게 맞으니까 return True (return 종료되니까 코드 마지막)\n",
    "        return True\n",
    "    return False"
   ]
  },
  {
   "cell_type": "code",
   "execution_count": 10,
   "metadata": {},
   "outputs": [
    {
     "data": {
      "text/plain": [
       "[[0, 0, 1, 1, 0], [0, 0, 0, 1, 1], [1, 1, 1, 1, 1], [0, 0, 0, 0, 0]]"
      ]
     },
     "execution_count": 10,
     "metadata": {},
     "output_type": "execute_result"
    }
   ],
   "source": [
    "graph"
   ]
  },
  {
   "cell_type": "code",
   "execution_count": null,
   "metadata": {},
   "outputs": [
    {
     "ename": "",
     "evalue": "",
     "output_type": "error",
     "traceback": [
      "\u001b[1;31mCanceled future for execute_request message before replies were done"
     ]
    },
    {
     "ename": "",
     "evalue": "",
     "output_type": "error",
     "traceback": [
      "\u001b[1;31mThe Kernel crashed while executing code in the the current cell or a previous cell. Please review the code in the cell(s) to identify a possible cause of the failure. Click <a href='https://aka.ms/vscodeJupyterKernelCrash'>here</a> for more info. View Jupyter <a href='command:jupyter.viewOutput'>log</a> for further details."
     ]
    }
   ],
   "source": [
    "result = 0\n",
    "\n",
    "for i in range(n):\n",
    "    for j in range(m):\n",
    "        # 현재 위치에서 DFS 수행 => 처음 수행 된것이라면 +=1\n",
    "        if dfs(i, j) == True:\n",
    "            result +=1\n",
    "            \n",
    "result"
   ]
  },
  {
   "cell_type": "markdown",
   "metadata": {},
   "source": [
    "### BFS 활용문제\n",
    "![ex2](..\\png\\ex2.png)\n",
    "![condition2](..\\png\\condition2.png)"
   ]
  },
  {
   "cell_type": "markdown",
   "metadata": {},
   "source": [
    "**BFS : 간선의 비용이 모두 같을때 최소경로 문제 시 사용됨**\n",
    "- 그래프로 가정하고\n",
    "- 처음위치 (1,1) 시작 : 인접한 노드 중 1인 경우만 이동가능(1인 경우만 bfs 진행)\n",
    "- 이동한 노드의 값을 지금까지의 최단거리 += 1로 변경\n",
    "![result](./result.png)"
   ]
  },
  {
   "cell_type": "code",
   "execution_count": 1,
   "metadata": {},
   "outputs": [],
   "source": [
    "from collections import deque\n",
    "\n",
    "n,m = map(int, input().split())\n",
    "graph = []\n",
    "for i in range(n):\n",
    "    graph.append(list(map(int, input())))\n",
    "\n",
    "# 이동할 방향벡터 정의 (상, 하, 좌, 우)\n",
    "dx = [-1, 1, 0, 0]\n",
    "dy = [0, 0, -1, 1]\n"
   ]
  },
  {
   "cell_type": "code",
   "execution_count": 2,
   "metadata": {},
   "outputs": [],
   "source": [
    "def bfs(x, y):\n",
    "    queue = deque()\n",
    "    queue.append((x, y)) # 큐에 튜플단위로도 저장가능\n",
    "    # 기존 bfs 코드 처럼 큐가 빌 때까지 반복\n",
    "    while queue:\n",
    "        x, y = queue.popleft()\n",
    "        # 현재 위치에서 4가지 방향으로의 위치 확인\n",
    "        for i in range(4):\n",
    "            nx = x + dx[i]\n",
    "            ny = y + dy[i]\n",
    "            # 아예 공간 벗어난 경우 무시\n",
    "            if nx < 0 or nx >= n or ny < 0 or ny >= m:\n",
    "                continue\n",
    "            # 벽인 경우 무시\n",
    "            if graph[nx][ny] == 0:\n",
    "                continue\n",
    "            # 해당 노드 처음 방문하는 경우에만 최단 거리 기록\n",
    "            if graph[nx][ny] == 1 :\n",
    "                graph[nx][ny] = graph[x][y] + 1\n",
    "                queue.append((nx,ny))\n",
    "    # 가장 오른쪽 아래까지의 최단 거리 반환\n",
    "    return graph[n-1][m-1]"
   ]
  },
  {
   "cell_type": "code",
   "execution_count": 3,
   "metadata": {},
   "outputs": [
    {
     "data": {
      "text/plain": [
       "10"
      ]
     },
     "execution_count": 3,
     "metadata": {},
     "output_type": "execute_result"
    }
   ],
   "source": [
    "bfs(0,0)"
   ]
  }
 ],
 "metadata": {
  "kernelspec": {
   "display_name": "Python 3.8.13 ('kotorch')",
   "language": "python",
   "name": "python3"
  },
  "language_info": {
   "codemirror_mode": {
    "name": "ipython",
    "version": 3
   },
   "file_extension": ".py",
   "mimetype": "text/x-python",
   "name": "python",
   "nbconvert_exporter": "python",
   "pygments_lexer": "ipython3",
   "version": "3.8.13"
  },
  "orig_nbformat": 4,
  "vscode": {
   "interpreter": {
    "hash": "e394b0e5950b2ed9ac02d3d0f43da50df004fa03f183c9ffe2862d4a06a95d21"
   }
  }
 },
 "nbformat": 4,
 "nbformat_minor": 2
}
