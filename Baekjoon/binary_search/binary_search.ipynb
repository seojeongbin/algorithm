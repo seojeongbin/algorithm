{
 "cells": [
  {
   "cell_type": "markdown",
   "metadata": {},
   "source": [
    "### 0. 이진 탐색 이란?"
   ]
  },
  {
   "cell_type": "markdown",
   "metadata": {},
   "source": [
    "- 순차탐색 : 그냥 앞에서부터 순차적으로 탐색\n",
    "- 이진탐색 : 탐색 범위를 절반씩 좁혀가면서 데이터 탐색\n",
    "    - **전제 : 정렬된 상태**\n",
    "    - 시작점, 끝점, 중간점을 이용하여 탐색 범위 매번 재설정\n",
    "    - 더 효과적이고 빠르다\n",
    "- 단계마다 탐색 범위를 /2 하므로 연산횟수는 log 2 N에 비례\n",
    "    - 시간 복잡도 O(log N)"
   ]
  },
  {
   "cell_type": "markdown",
   "metadata": {},
   "source": [
    "### 1-1. 이진 탐색 구현 (재귀)"
   ]
  },
  {
   "cell_type": "code",
   "execution_count": 1,
   "metadata": {},
   "outputs": [],
   "source": [
    "def binary_search_recursion(array, target, start, end):\n",
    "    if start > end :\n",
    "        return None\n",
    "    mid = (start + end) // 2\n",
    "    # 0. 찾은 경우 중간점의 인덱스 반환\n",
    "    if array[mid] == target:\n",
    "        return mid\n",
    "    # 1. target이 중간점 값보다 작은경우 -> 왼쪽 확인 필요\n",
    "    elif target < array[mid]:\n",
    "        return binary_search_recursion(array, target, start, mid-1)\n",
    "    # 2. target이 중간점 값보다 큰경우 -> 우측 확인 필요\n",
    "    else :\n",
    "        return binary_search_recursion(array, target, mid+1, end)"
   ]
  },
  {
   "cell_type": "markdown",
   "metadata": {},
   "source": [
    "### 1-2. 이진 탐색 구현 (반복문 : 이게 더 나을듯?)"
   ]
  },
  {
   "cell_type": "code",
   "execution_count": null,
   "metadata": {},
   "outputs": [],
   "source": [
    "def binary_search_loop(array, target, start, end):\n",
    "    while start <= end:\n",
    "        mid = (start + end) // 2\n",
    "        # 0. 찾은 경우 중간점의 인덱스 반환\n",
    "        if array[mid] == target:\n",
    "            return mid\n",
    "        # 1. target이 중간점 값보다 작은경우 -> 왼쪽 확인 필요\n",
    "        elif target < array[mid]    :\n",
    "            end = mid - 1\n",
    "        # 2. target이 더 큰 경우\n",
    "        else :\n",
    "            start = mid + 1"
   ]
  },
  {
   "cell_type": "code",
   "execution_count": 2,
   "metadata": {},
   "outputs": [
    {
     "name": "stdout",
     "output_type": "stream",
     "text": [
      "4\n"
     ]
    }
   ],
   "source": [
    "num, target = 10, 7\n",
    "array = [1, 3, 5, 7, 9, 11, 13, 15, 17, 19]\n",
    "\n",
    "result = binary_search_recursion(array, target, 0, num-1) # end 지점이 인덱스 의미이므로 num -1 해야함\n",
    "if result == None :\n",
    "    print('존재하지 않는 원소')\n",
    "else :\n",
    "    print(result + 1) # 인데스라서 0 1 2 3 으로 되니까 사람이 봤을땐 4번째라서 result + 1"
   ]
  },
  {
   "cell_type": "markdown",
   "metadata": {},
   "source": [
    "### 1-3. 실전 문제 적용 - 파라메트릭 서치"
   ]
  },
  {
   "cell_type": "markdown",
   "metadata": {},
   "source": [
    "- 파라메트릭 서치 : 최적화 문제를 결정 문제(예, 아니오)로 바꾸어 해결하는 기법\n",
    "    - 예시 : 특정한 조건을 만족하는 가장 알맞은 값을 빠르게 찾는 최적화 문제\n",
    "- 일반적으로 코딩 테스트에서 **파라메트릭 서치 문제**는 **이진 탐색**을 이용하여 해결"
   ]
  },
  {
   "cell_type": "markdown",
   "metadata": {},
   "source": [
    "![bisect_task](..\\png\\bisect_task.png)\n",
    "- 높이를 조정하면서 **그 높이에 따라 조건의 만족여부(예, 아니오)에 따라서** 탐색 범위를 좁히게 됨\n",
    "- 절단기의 높이는 0부터 10억\n",
    "    - 이렇게 **일반적인 범위가 아니라, 탐색범위가 크다면** 선형탐색은 시간 초과 될 수 있으므로 **이진 탐색을 가장 먼저 떠올려야 함**\n",
    "        - 이게 search의 탐색은 아니라서 정렬은 필요없지만, 이진탐색의 아이디어를 생각할 수 있음"
   ]
  },
  {
   "cell_type": "markdown",
   "metadata": {},
   "source": [
    "![bisect_task2](..\\png\\bisect_task2.png)\n",
    "- 중간점의 값은 시간이 지날수록 '최적화된 값'\n",
    "    - 과정을 반복하면서 얻을 수 있는 떡의 길이가 필요한 떡 길이보다 크거나 같을때마다 중간점의 값을 기록"
   ]
  },
  {
   "cell_type": "code",
   "execution_count": 8,
   "metadata": {},
   "outputs": [
    {
     "name": "stdout",
     "output_type": "stream",
     "text": [
      "15\n"
     ]
    }
   ],
   "source": [
    "# input \n",
    "num, target_length = 4, 6\n",
    "array = [19, 15, 10, 17] \n",
    "\n",
    "# init binary search\n",
    "start = 0\n",
    "end = max(array)\n",
    "\n",
    "# binary search\n",
    "while (start<=end):\n",
    "    total = 0\n",
    "    mid = (start + end) // 2\n",
    "    for i in array :\n",
    "        if i > mid : # 작은값은 그냥 0되버리고, 큰 값에 한해서 잘린길이가 존재하니까\n",
    "            length = i - mid\n",
    "            total += length\n",
    "    # total의 길이가 부족한 경우 더 많이 잘라야 함 (왼쪽 부분을 탐색해야)\n",
    "    if total < target_length :\n",
    "        end = mid - 1\n",
    "    # total이 충분한 경우 떡 길이를 덜 잘라봐야 함 (target을 넘는범위내에서 길이는 최대 길이를 구하는거니까) (오른쪽 부분 탐색)\n",
    "    else :\n",
    "        start = mid + 1\n",
    "        result = mid\n",
    "\n",
    "print(result)\n"
   ]
  },
  {
   "cell_type": "markdown",
   "metadata": {},
   "source": [
    "### 2-1. 파이썬 이진탐색 라이브러리 bisect (값 범위 개수 구하기)"
   ]
  },
  {
   "cell_type": "markdown",
   "metadata": {},
   "source": [
    "![bisect](..\\png\\bisect.png)\n",
    "- bisect_left : 해당값 기준 가장 가까운 좌측의 인덱스 반환\n",
    "- bisect_right : 해당값 기준 가장 가까운 우측의 인덱스 반환"
   ]
  },
  {
   "cell_type": "code",
   "execution_count": 5,
   "metadata": {},
   "outputs": [
    {
     "data": {
      "text/plain": [
       "4"
      ]
     },
     "execution_count": 5,
     "metadata": {},
     "output_type": "execute_result"
    }
   ],
   "source": [
    "from bisect import bisect_left, bisect_right\n",
    "\n",
    "target = 7\n",
    "array = [1, 3, 5, 7, 9, 11, 13, 15, 17, 19]\n",
    "\n",
    "result = bisect_left(array, target)\n",
    "result + 1"
   ]
  },
  {
   "cell_type": "markdown",
   "metadata": {},
   "source": [
    "-> 이를 통해 특정 값 범위에 해당하는 원소개수를 구할 수 있음!"
   ]
  },
  {
   "cell_type": "code",
   "execution_count": 7,
   "metadata": {},
   "outputs": [
    {
     "name": "stdout",
     "output_type": "stream",
     "text": [
      "2\n",
      "6\n"
     ]
    }
   ],
   "source": [
    "def count_within_range(array, value_1, value_2):\n",
    "    right_index = bisect_right(array, value_2)\n",
    "    left_index = bisect_left(array, value_1)\n",
    "    return right_index - left_index\n",
    "\n",
    "array = [1, 2, 3, 3, 3, 3, 4, 4, 8, 9]\n",
    "print(count_within_range(array, 4, 4)) # 값이 4인 원소 개수 출력하는셈\n",
    "print(count_within_range(array, -1, 3)) # 값이 -1 ~ 3 범위인 원소 개수 출력"
   ]
  },
  {
   "cell_type": "markdown",
   "metadata": {},
   "source": [
    "### 2-2. bisect 실전 문제 적용\n",
    "- 위에서처럼 범위 내에서의 개수 구하는 문제에서 적용가능\n",
    "- 선형탐색 아이디어로도 가능하지만 더 빠른 시간을 요구할 때 적용가능"
   ]
  },
  {
   "cell_type": "code",
   "execution_count": null,
   "metadata": {},
   "outputs": [],
   "source": []
  },
  {
   "cell_type": "markdown",
   "metadata": {},
   "source": []
  }
 ],
 "metadata": {
  "kernelspec": {
   "display_name": "Python 3.8.13 ('kotorch')",
   "language": "python",
   "name": "python3"
  },
  "language_info": {
   "codemirror_mode": {
    "name": "ipython",
    "version": 3
   },
   "file_extension": ".py",
   "mimetype": "text/x-python",
   "name": "python",
   "nbconvert_exporter": "python",
   "pygments_lexer": "ipython3",
   "version": "3.8.13"
  },
  "orig_nbformat": 4,
  "vscode": {
   "interpreter": {
    "hash": "e394b0e5950b2ed9ac02d3d0f43da50df004fa03f183c9ffe2862d4a06a95d21"
   }
  }
 },
 "nbformat": 4,
 "nbformat_minor": 2
}
