{
 "cells": [
  {
   "cell_type": "markdown",
   "metadata": {},
   "source": [
    "### 구현 문제란?\n",
    "- 풀이를 떠올리는 것은 쉽지만 소스코드로 옮기기 어려운 문제\n",
    "- 예시\n",
    "    - 알고리즘은 간단한데 코드가 지나칠 만큼 길어지는 문제\n",
    "    - 실수 연산 다루고 소수점 까지 출력해야 하는 문제\n",
    "    - 문자열을 특정 기준으로 파싱\n",
    "    - 적절 라이브러리 찾아서 사용해야 하는 문제\n",
    "- 대표적 유형 : 완전 탐색, 시뮬레이션"
   ]
  },
  {
   "cell_type": "markdown",
   "metadata": {},
   "source": [
    "![implementaion](..\\png\\implementaion.png)"
   ]
  },
  {
   "cell_type": "markdown",
   "metadata": {},
   "source": [
    "- **❗좌표가 오른쪽으로 갈수록 x가 증가하는게 아니라 y가 증가하는 방식임을 주의!!**\n",
    "    - 행 : 밑으로 갈수록 + \n",
    "    - 열 : 오른쪽으로 갈수록 +\n",
    "    - 동 : (0, 1) 북 : (-1, 0).... 를 방향벡터로 (행, 열 성분을 나눠서) 표현가능\n",
    "        - dx = [0, -1, 0, 1] dy = [1, 0, -1, 0] **방향 벡터** 표현 가능"
   ]
  },
  {
   "cell_type": "markdown",
   "metadata": {},
   "source": [
    "### 예시 문제 1 - 시뮬레이션 유형\n",
    "- **시뮬레이션 유형**이란? \n",
    "    - 명령에 따라 개체를 이동시키는 유형\n",
    "    - 단 구현, 시뮬레이션, 완전탐색은 용어를 그냥 구분없이 기재하는 경우가 많으므로 사이트 등 사용 시 주의\n",
    "- 입력\n",
    "    - 공간의 크기 N\n",
    "    - 이동할 계획 내용\n",
    "- 출력\n",
    "    - 도착 지점 좌표 (X, Y)"
   ]
  },
  {
   "cell_type": "markdown",
   "metadata": {},
   "source": [
    "![implementaion1](..\\png\\implementaion1.png)"
   ]
  },
  {
   "cell_type": "markdown",
   "metadata": {},
   "source": [
    "#### 최초 내 풀이"
   ]
  },
  {
   "cell_type": "code",
   "execution_count": 21,
   "metadata": {},
   "outputs": [],
   "source": [
    "# input\n",
    "N = 5\n",
    "move_plan = ['R', 'R', 'R', 'U', 'D', 'D'] # R, L, U, D"
   ]
  },
  {
   "cell_type": "code",
   "execution_count": 10,
   "metadata": {},
   "outputs": [
    {
     "name": "stdout",
     "output_type": "stream",
     "text": [
      "2 4\n"
     ]
    }
   ],
   "source": [
    "# 1. 지도 크기 규제\n",
    "size = N-1\n",
    "\n",
    "# 2. 이동벡터 정의 (R, L, U, D 순으로)\n",
    "dx = [0, 0, -1, 1] # 행 이동(세로 방향) \n",
    "dy = [1, -1, 0, 0] # 열 이동(가로 방향)\n",
    "\n",
    "# 3. 현재 위치\n",
    "x, y = 0, 0\n",
    "\n",
    "# 4. 위치 갱신\n",
    "for plan in move_plan :\n",
    "    if plan == 'R' :\n",
    "        x += dx[0]\n",
    "        y += dy[0]\n",
    "        if x<0 or y<0 or x>size or y>size : \n",
    "            continue\n",
    "    elif plan == 'L' :\n",
    "        x += dx[1]\n",
    "        y += dy[1]\n",
    "        if x<0 or y<0 or x>size or y>size : \n",
    "            continue        \n",
    "    elif plan == 'U' :\n",
    "        x += dx[2]\n",
    "        y += dy[2]\n",
    "        if x<0 or y<0 or x>size or y>size : \n",
    "            continue        \n",
    "    else :\n",
    "        x += dx[3]\n",
    "        y += dy[3]   \n",
    "        if x<0 or y<0 or x>size or y>size : \n",
    "            continue\n",
    "        \n",
    "print(x+1, y+1)"
   ]
  },
  {
   "cell_type": "markdown",
   "metadata": {},
   "source": [
    "#### 내 풀이 - 수정버전\n",
    "> **❗continue 는 그 밑에 부분을 날리는 것!!** 고로 위에 처럼 작성하면 해당 부분이 적용이 안되는게 아님!! x += 변경사항. 이런식으로 하면 안되고 **좌표 적용 코드는 따로 작성해야함**"
   ]
  },
  {
   "cell_type": "code",
   "execution_count": 11,
   "metadata": {},
   "outputs": [
    {
     "name": "stdout",
     "output_type": "stream",
     "text": [
      "3 4\n"
     ]
    }
   ],
   "source": [
    "N = 5\n",
    "move_plan = ['R', 'R', 'R', 'U', 'D', 'D'] \n",
    "size = N-1\n",
    "\n",
    "dx = [0, 0, -1, 1] \n",
    "dy = [1, -1, 0, 0] \n",
    "\n",
    "x, y = 0, 0\n",
    "\n",
    "for plan in move_plan :\n",
    "    if plan == 'R' :\n",
    "        nx = x + dx[0]\n",
    "        ny = y + dy[0]\n",
    "        if nx<0 or ny<0 or nx>size or ny>size : \n",
    "            continue\n",
    "        x, y = nx, ny\n",
    "        # ❗ 시뮬레이션 유형에서, 좌표 적용 코드는 +=가 아닌 따로 작성.\n",
    "        # 그리고 예외 처리 continue와 구분해서 그 밑에 작성해야 continue가 걸린다!\n",
    "    elif plan == 'L' :\n",
    "        nx = x + dx[1]\n",
    "        ny = y + dy[1]\n",
    "        if nx<0 or ny<0 or nx>size or ny>size : \n",
    "            continue\n",
    "        x, y = nx, ny       \n",
    "    elif plan == 'U' :\n",
    "        nx = x + dx[2]\n",
    "        ny = y + dy[2]\n",
    "        if nx<0 or ny<0 or nx>size or ny>size : \n",
    "            continue\n",
    "        x, y = nx, ny  \n",
    "    elif plan == 'D' :\n",
    "        nx = x + dx[3]\n",
    "        ny = y + dy[3]\n",
    "        if nx<0 or ny<0 or nx>size or ny>size : \n",
    "            continue\n",
    "        x, y = nx, ny\n",
    "        \n",
    "print(x+1, y+1)"
   ]
  },
  {
   "cell_type": "markdown",
   "metadata": {},
   "source": [
    "> U 부분 보면, continue가 제대로 적용도 되지않고, 그 다음 step으로 진행도 되지 않음. continue 정확한 사용방법 (공식문서를 보자) 보고 주의사항을 필히 정리하기!!!!"
   ]
  },
  {
   "cell_type": "markdown",
   "metadata": {},
   "source": [
    "#### if문 개선 버전 (강의 코드)\n",
    "- 차이점\n",
    "    - move_type을 따로 정의를 해줬음. L, R, U, D 순서에 따라 조치될 것이니까\n",
    "    - 이후 순서에 따라서 조치니까 => 그냥 for문에서 바로 꺼내는 것이 아닌, 인덱스로 사용 하는 방식 : in range(len()) 으로 if elif 안쓰고 바로 처리함 (이런 간단한 테크닉 앞으로 사용할 것!)"
   ]
  },
  {
   "cell_type": "code",
   "execution_count": 12,
   "metadata": {},
   "outputs": [
    {
     "name": "stdout",
     "output_type": "stream",
     "text": [
      "3 4\n"
     ]
    }
   ],
   "source": [
    "# input\n",
    "N = 5\n",
    "move_plan = ['R', 'R', 'R', 'U', 'D', 'D']\n",
    "x, y = 0, 0 # 현재 위치\n",
    "\n",
    "# 2. 이동벡터 정의 (R, L, U, D 순으로)\n",
    "dx = [0, 0, -1, 1] \n",
    "dy = [1, -1, 0, 0] \n",
    "move_type = ['R', 'L', 'U', 'D'] # move type 선언\n",
    "\n",
    "# 3. 위치 갱신\n",
    "for plan in move_plan :\n",
    "    # if 일일이 쓰지 않기 위해 여기서 선언한 move type 을 for문으로, 인덱스 방식으로 꺼낸다\n",
    "    for i in range(len(move_type)):\n",
    "        if plan == move_type[i] :\n",
    "            nx = x + dx[i]\n",
    "            ny = y + dy[i]\n",
    "        # 예외 처리 해당 시 무시\n",
    "        if nx < 0 or ny < 0 or nx > N-1 or ny > N-1 :\n",
    "            continue\n",
    "        # 이동 적용\n",
    "        x, y = nx, ny\n",
    "        \n",
    "print(x+1, y+1)"
   ]
  },
  {
   "cell_type": "markdown",
   "metadata": {},
   "source": [
    "### 예시 문제 2 - 완전탐색 유형 => for문으로 가능한 범위 다 하나씩 키워본다 생각\n",
    "- 정수 N이 입력되면 00시 00분 00초부터 N시 59분 59초까지의 모든 시각중에서 3이 하나라도 포함되는 모든 경우의 수를 구하는 프로그램 작성\n",
    "    - 00시 00분 03초\n",
    "    - 00시 13분 30초\n",
    "- 입력\n",
    "    - 정수 N\n",
    "- 출력\n",
    "    - 모든 시각 중에서 3이 하나라도 포함되는 모든 경우의 수"
   ]
  },
  {
   "cell_type": "markdown",
   "metadata": {},
   "source": [
    "- 하루 전체를 생각해도 24 * 60 * 60 = 86,400가지\n",
    "- 단순히 시각을 1씩 증가시키면서 3이 하나라도 포함되어 있는지를 확인하면 됨! (완전탐색)\n",
    "- 파이썬은 1초에 2천만번 체크 가능. 이를 생각해서 완전탐색으로 구현 가능한지 판단가능!"
   ]
  },
  {
   "cell_type": "code",
   "execution_count": 18,
   "metadata": {},
   "outputs": [
    {
     "name": "stdout",
     "output_type": "stream",
     "text": [
      "11475\n"
     ]
    }
   ],
   "source": [
    "N = 5\n",
    "cnt = 0\n",
    "\n",
    "for h in range(N+1):\n",
    "    h = str(h).zfill(2)\n",
    "    for m in range(60):\n",
    "        m = str(m).zfill(2)\n",
    "        for s in range(60):\n",
    "            s = str(s).zfill(2)\n",
    "            time = h+m+s\n",
    "            if '3' in time :\n",
    "                cnt += 1\n",
    "                \n",
    "print(cnt)"
   ]
  },
  {
   "cell_type": "markdown",
   "metadata": {},
   "source": [
    "### 예시 문제 3 - 시뮬레이션 & 완전탐색\n",
    "- 입력 : 현재 나이트가 위치한 곳을 문자로 입력받음 a1\n",
    "- 출력 : 이동할 수 있는 경우의 수 : 2"
   ]
  },
  {
   "cell_type": "markdown",
   "metadata": {},
   "source": [
    "![implementaion2](..\\png\\implementaion2.png)"
   ]
  },
  {
   "cell_type": "code",
   "execution_count": 28,
   "metadata": {},
   "outputs": [
    {
     "name": "stdout",
     "output_type": "stream",
     "text": [
      "6\n"
     ]
    }
   ],
   "source": [
    "current = 'c2' # input\n",
    "dict = {'a':1, 'b':2, 'c':3, 'd':4, 'e':5, 'f':6, 'g':7, 'h':8}\n",
    "size = 8 # 8*8 평면\n",
    "\n",
    "col = dict[current[0]]\n",
    "row = current[1]\n",
    "x, y = int(row)-1, int(col)-1\n",
    "dx = [-1, -2, -2 ,-1, 1, 2, 2, 1]\n",
    "dy = [-2, -1, 1, 2, -2, -1, 1, 2]\n",
    "type_num = len(dx)\n",
    "\n",
    "cnt = 0\n",
    "for i in range(type_num) :\n",
    "    nx = x + dx[i]    \n",
    "    ny = y + dy[i]\n",
    "    if nx<0 or ny<0 or nx>size-1 or ny>size-1:\n",
    "        continue\n",
    "    cnt += 1\n",
    "    # x, y = nx, ny : 지금은 이동하는게 아니라 이동 가능 경우 개수를 세는 거니까\n",
    "\n",
    "print(cnt)"
   ]
  }
 ],
 "metadata": {
  "kernelspec": {
   "display_name": "Python 3.8.13 ('kotorch')",
   "language": "python",
   "name": "python3"
  },
  "language_info": {
   "codemirror_mode": {
    "name": "ipython",
    "version": 3
   },
   "file_extension": ".py",
   "mimetype": "text/x-python",
   "name": "python",
   "nbconvert_exporter": "python",
   "pygments_lexer": "ipython3",
   "version": "3.8.13"
  },
  "orig_nbformat": 4,
  "vscode": {
   "interpreter": {
    "hash": "e394b0e5950b2ed9ac02d3d0f43da50df004fa03f183c9ffe2862d4a06a95d21"
   }
  }
 },
 "nbformat": 4,
 "nbformat_minor": 2
}
