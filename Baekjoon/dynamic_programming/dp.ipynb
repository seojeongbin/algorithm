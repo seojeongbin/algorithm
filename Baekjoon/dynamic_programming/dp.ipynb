{
 "cells": [
  {
   "cell_type": "markdown",
   "metadata": {},
   "source": [
    "- dp 일단은 나머지부분도 다 듣기\n",
    "    - 이거 '재귀' 부분 복습하면서 백준 골드 하위정도까지만 풀어보기\n",
    "    - '재귀'를 마스터한다고 생각.\n",
    "- dp 끝나면 이코테 다음 진도 나가지말고 이코테 '구현' 부분 듣기!!"
   ]
  },
  {
   "cell_type": "markdown",
   "metadata": {},
   "source": [
    "### 0. 다이나믹 프로그래밍 이란?\n",
    "- 한번 계산한 값을 메모리에 저장하여 (캐싱, 메모이제이션) 같은 문제를 다시 호출하면 메모한 결과를 가져오는 방식 : 탑다운방식\n",
    "    - dp는 보통 바텀업방식이 보통이다\n",
    "- **다이나믹 프로그래밍 유형임을 파악**하는 것이 중요!\n",
    "    - 그리디, 구현, 완전 탐색 등을 먼저 검토\n",
    "    - 재귀 함수로 완전 탐색 코드 작성 => 이후 작은 부분에서 구한 답이 큰 문제에서 그대로 사용될 수 있으면 코드 개선하는 방식\n",
    "- 일반적인 코테 수준에서는 기본 유형의 dp 문제가 출제되는 경우가 많다고 함\n",
    "- 다이나믹 프로그래밍의 조건\n",
    "    - 최적 부분 구조 : 큰 문제를 작은 문제로 나눌 수 있는가\n",
    "    - 중복되는 부분 문제 : 동일한 작은 문제를 반복적으로 해결해야 하는 구조인가"
   ]
  },
  {
   "cell_type": "markdown",
   "metadata": {},
   "source": [
    "![dp](..\\png\\dp.png)"
   ]
  },
  {
   "cell_type": "markdown",
   "metadata": {},
   "source": [
    "#### dp 예시 - 피보나치 (바텀업)"
   ]
  },
  {
   "cell_type": "code",
   "execution_count": 7,
   "metadata": {},
   "outputs": [
    {
     "data": {
      "text/plain": [
       "9227465"
      ]
     },
     "execution_count": 7,
     "metadata": {},
     "output_type": "execute_result"
    }
   ],
   "source": [
    "# 피보나치 기존 코드 => 지수방식이라 값 커질수록 시간 오래 걸림 (5.3초)\n",
    "def fibo(n):\n",
    "    if n == 1 or n==2 :\n",
    "        return 1\n",
    "    else :\n",
    "        return fibo(n-1) + fibo(n-2)\n",
    "    \n",
    "fibo(35)"
   ]
  },
  {
   "cell_type": "code",
   "execution_count": 8,
   "metadata": {},
   "outputs": [
    {
     "name": "stdout",
     "output_type": "stream",
     "text": [
      "9227465\n"
     ]
    }
   ],
   "source": [
    "n = 35 # 선형적임 => 소요시간 (0.4초)\n",
    "\n",
    "# 결과 저장을 위한 DP 테이블 초기화\n",
    "d = [0] * 100\n",
    "\n",
    "# 첫번째, 두번째 피보나치 수 값 설정\n",
    "d[1] = 1\n",
    "d[2] = 1\n",
    "\n",
    "# 바텀업 방식으로 구현 (반복문 구현)\n",
    "for i in range(3, n+1):\n",
    "    d[i] = d[i-1] + d[i-2]\n",
    "    \n",
    "print(d[n])"
   ]
  },
  {
   "cell_type": "markdown",
   "metadata": {},
   "source": [
    "### 1. 문제 1 \n",
    "- 식량창고 이웃한건 공격못한다고 했을때 maximize 하는 방법 찾기임\n",
    "- 입력\n",
    "    - 식량창고 개수 N\n",
    "    - 저장된 식량 개수 저장된 array\n",
    "- 출력\n",
    "    - 얻을 수 있는 식량의 최대값"
   ]
  },
  {
   "cell_type": "markdown",
   "metadata": {},
   "source": [
    "![dp_task1](..\\png\\dp_task1.png)"
   ]
  },
  {
   "cell_type": "code",
   "execution_count": 9,
   "metadata": {},
   "outputs": [
    {
     "name": "stdout",
     "output_type": "stream",
     "text": [
      "8\n"
     ]
    }
   ],
   "source": [
    "# i번째 최적값 = 현재꺼 취하고 i-2값 or 털지않고 i-1 값\n",
    "\n",
    "# input\n",
    "n = 4\n",
    "array = [1, 3, 1, 5]\n",
    "\n",
    "# dp 테이블 초기화\n",
    "d = [0] * 100\n",
    "\n",
    "# dp 진행\n",
    "d[0] = array[0]\n",
    "d[1] = max(array[0], array[1])\n",
    "for i in range(2, n) :\n",
    "    d[i] = max(d[i-1], d[i-2] + array[i])\n",
    "\n",
    "# print result\n",
    "print(d[n-1])"
   ]
  },
  {
   "cell_type": "markdown",
   "metadata": {},
   "source": [
    "### 문제 2\n",
    "- 정수 X가 주어졌을 때, X에 사용할 수 있는 연산은 다음과 같이 4가지이다\n",
    "    - X가 5로 나누어 떨어지면, 5로 나눈다\n",
    "    - X가 3로 나누어 떨어지면, 3로 나눈다\n",
    "    - X가 2로 나누어 떨어지면, 2로 나눈다\n",
    "    - X에서 1을 뺀다\n",
    "- 위 연산 4가지를 적절히 사용하여 값을 1로 만들고자 한다. 연산 사용 횟수의 최솟값을 출력하라. 예를 들어 정수가 26이면, 다음과 같이 계산하여 3번의 연산이 최솟값이다.\n",
    "    - 26 -> 25 -> 5 -> 1"
   ]
  },
  {
   "cell_type": "markdown",
   "metadata": {},
   "source": [
    "![dp_task2](..\\png\\dp_task2.png)"
   ]
  },
  {
   "cell_type": "markdown",
   "metadata": {},
   "source": [
    "- 문제 상황을 그림으로 표현해보면 위와같다!\n",
    "- 6을 처리하는 경우\n",
    "    - (1을 빼서) 5가 되었을때, 5까지의 연산 횟수 값\n",
    "    - (2을 나눠서) 3가 되었을때, 3까지의 연산 횟수 값\n",
    "    - (3을 나눠서) 2가 되었을때, 2까지의 연산 횟수 값\n",
    "    - (*5로는 나눠지지 않으니 이 경우는 생각하지 않음)\n",
    "- 위 4가지 방법을 택했을때의 그 값의 연산 최솟값을 선택하는 식임! 피보나치와 유사한 구조임!"
   ]
  },
  {
   "cell_type": "code",
   "execution_count": 10,
   "metadata": {},
   "outputs": [
    {
     "name": "stdout",
     "output_type": "stream",
     "text": [
      "3\n"
     ]
    }
   ],
   "source": [
    "# input\n",
    "x = 26\n",
    "\n",
    "# dp 테이블 초기화\n",
    "d = [0] * 30001\n",
    "\n",
    "# dp 진행\n",
    "for i in range(2, x+1):\n",
    "    # case 1 : 1을 빼는 경우\n",
    "    d[i] = d[i-1] + 1\n",
    "    # case 2 : 2로 나눠떨어지는 경우\n",
    "    if i % 2 == 0 :\n",
    "        d[i] = min(d[i], d[i//2] + 1)\n",
    "    # case 3 : 3로 나눠떨어지는 경우\n",
    "    if i % 3 == 0 :\n",
    "        d[i] = min(d[i], d[i//3] + 1)\n",
    "    # case 4 : 5로 나눠떨어지는 경우\n",
    "    if i % 5 == 0 :\n",
    "        d[i] = min(d[i], d[i//5] + 1)\n",
    "        \n",
    "print(d[x])        "
   ]
  }
 ],
 "metadata": {
  "kernelspec": {
   "display_name": "Python 3.8.13 ('kotorch')",
   "language": "python",
   "name": "python3"
  },
  "language_info": {
   "codemirror_mode": {
    "name": "ipython",
    "version": 3
   },
   "file_extension": ".py",
   "mimetype": "text/x-python",
   "name": "python",
   "nbconvert_exporter": "python",
   "pygments_lexer": "ipython3",
   "version": "3.8.13"
  },
  "orig_nbformat": 4,
  "vscode": {
   "interpreter": {
    "hash": "e394b0e5950b2ed9ac02d3d0f43da50df004fa03f183c9ffe2862d4a06a95d21"
   }
  }
 },
 "nbformat": 4,
 "nbformat_minor": 2
}
