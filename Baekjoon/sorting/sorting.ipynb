{
 "cells": [
  {
   "cell_type": "markdown",
   "metadata": {},
   "source": [
    "### 정렬\n",
    "- 데이터의 개수, 범위, 정렬된 상태에 따라 어떤 알고리즘을 쓸지가 다름\n",
    "- 상황에 따라 적절한 정렬 알고리즘이 공식처럼 사용됨"
   ]
  },
  {
   "cell_type": "code",
   "execution_count": 5,
   "metadata": {},
   "outputs": [],
   "source": [
    "array = [7, 5, 9, 0, 3, 1, 6, 2, 4, 8]"
   ]
  },
  {
   "cell_type": "markdown",
   "metadata": {},
   "source": [
    "### 1. 선택정렬\n",
    "- 매번마다 가장 최소값을 가장 앞으로 보냄\n",
    "- 그 후 그 다음범위에서 최소값을 그 다음 앞으로 보냄"
   ]
  },
  {
   "cell_type": "code",
   "execution_count": 3,
   "metadata": {},
   "outputs": [],
   "source": [
    "def select_sorting(array):\n",
    "    \n",
    "    for i in range(len(array)):\n",
    "        # 0. min(array)를 써도 min_idx를 표시할 방법이 없으므로 이렇게 initialize 해준다\n",
    "        min_idx = i\n",
    "        for j in range(i + 1, len(array)):\n",
    "            # 1. min_idx를 해당 범위마다 갱신\n",
    "            if array[min_idx] > array[j]:\n",
    "                min_idx = j\n",
    "        # 2. 그 자리에 대입이 끝이 아니라 정렬 swap이 포인트!\n",
    "        array[i], array[min_idx] = array[min_idx], array[i]\n",
    "    \n",
    "    return array"
   ]
  },
  {
   "cell_type": "code",
   "execution_count": 4,
   "metadata": {},
   "outputs": [
    {
     "name": "stdout",
     "output_type": "stream",
     "text": [
      "정렬 전 : [7, 5, 9, 0, 3, 1, 6, 2, 4, 8]\n",
      "정렬 후 : [0, 1, 2, 3, 4, 5, 6, 7, 8, 9]\n"
     ]
    }
   ],
   "source": [
    "print(f'정렬 전 : {array}')\n",
    "array_sorted = select_sorting(array)    \n",
    "print(f'정렬 후 : {array_sorted}')"
   ]
  },
  {
   "cell_type": "markdown",
   "metadata": {},
   "source": [
    "- 선택정렬은 N번 만큼 가장 작은 수를 찾게 됨\n",
    "- N + N-1 + N-2 ... -> n(n+1)/2 -> O(N2)"
   ]
  },
  {
   "cell_type": "markdown",
   "metadata": {},
   "source": [
    "### 2. 삽입정렬\n",
    "- 앞부분에 정렬이 다 되어있다고 가정\n",
    "- 그리고 매 시기마다 해당 원소를 최적의 위치에 배정"
   ]
  },
  {
   "cell_type": "markdown",
   "metadata": {},
   "source": [
    "![insertion_sorting](..\\png\\insertion_sorting.png)"
   ]
  },
  {
   "cell_type": "code",
   "execution_count": 8,
   "metadata": {},
   "outputs": [
    {
     "name": "stdout",
     "output_type": "stream",
     "text": [
      "10 9 8 7 6 5 4 3 2 1 "
     ]
    }
   ],
   "source": [
    "for i in range(10, 0, -1):\n",
    "    print(i, end =' ')"
   ]
  },
  {
   "cell_type": "code",
   "execution_count": 9,
   "metadata": {},
   "outputs": [],
   "source": [
    "def insertion_sorting(array):\n",
    "\n",
    "    for i in range(1, len(array)):\n",
    "        for j in range(i, 0, -1):\n",
    "            # 현재 대상이 되는 i = 3의 '0'이 9,7,5 각각과 비교하면서 자리를 찾게됨\n",
    "            if array[j] < array[j-1]:\n",
    "                array[j], array[j-1] = array[j-1], array[j]\n",
    "            else :\n",
    "                break\n",
    "            \n",
    "    return array"
   ]
  },
  {
   "cell_type": "code",
   "execution_count": 10,
   "metadata": {},
   "outputs": [
    {
     "name": "stdout",
     "output_type": "stream",
     "text": [
      "정렬 전 : [7, 5, 9, 0, 3, 1, 6, 2, 4, 8]\n",
      "정렬 후 : [0, 1, 2, 3, 4, 5, 6, 7, 8, 9]\n"
     ]
    }
   ],
   "source": [
    "print(f'정렬 전 : {array}')\n",
    "array_sorted = insertion_sorting(array)    \n",
    "print(f'정렬 후 : {array_sorted}')"
   ]
  },
  {
   "cell_type": "markdown",
   "metadata": {},
   "source": [
    "- 삽입정렬도 이중 for문 두개라 \n",
    "- N + N-1 + N-2 ... -> n(n+1)/2 -> O(N2)\n",
    "- 현재 데이터가 거의 정렬된 상태라면 매우 빠르게 동작함 -> 최선의 경우 O(N)"
   ]
  }
 ],
 "metadata": {
  "kernelspec": {
   "display_name": "Python 3.8.13 ('kotorch')",
   "language": "python",
   "name": "python3"
  },
  "language_info": {
   "codemirror_mode": {
    "name": "ipython",
    "version": 3
   },
   "file_extension": ".py",
   "mimetype": "text/x-python",
   "name": "python",
   "nbconvert_exporter": "python",
   "pygments_lexer": "ipython3",
   "version": "3.8.13"
  },
  "orig_nbformat": 4,
  "vscode": {
   "interpreter": {
    "hash": "e394b0e5950b2ed9ac02d3d0f43da50df004fa03f183c9ffe2862d4a06a95d21"
   }
  }
 },
 "nbformat": 4,
 "nbformat_minor": 2
}
