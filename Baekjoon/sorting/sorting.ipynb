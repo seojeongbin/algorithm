{
 "cells": [
  {
   "cell_type": "markdown",
   "metadata": {},
   "source": [
    "### 정렬\n",
    "- 데이터의 개수, 범위, 정렬된 상태에 따라 어떤 알고리즘을 쓸지가 다름\n",
    "- 상황에 따라 적절한 정렬 알고리즘이 공식처럼 사용됨\n",
    "- **맞바꾸는 swap 로직**이 기본으로 사용됨"
   ]
  },
  {
   "cell_type": "code",
   "execution_count": 18,
   "metadata": {},
   "outputs": [],
   "source": [
    "array = [7, 5, 9, 0, 3, 1, 6, 2, 4, 8]"
   ]
  },
  {
   "cell_type": "markdown",
   "metadata": {},
   "source": [
    "### 1. 선택정렬\n",
    "- 매번마다 가장 최소값을 가장 앞으로 보냄\n",
    "- 그 후 그 다음범위에서 최소값을 그 다음 앞으로 보냄"
   ]
  },
  {
   "cell_type": "code",
   "execution_count": 19,
   "metadata": {},
   "outputs": [],
   "source": [
    "def select_sorting(array):\n",
    "    \n",
    "    for i in range(len(array)):\n",
    "        # 0. min(array)를 써도 min_idx를 표시할 방법이 없으므로 이렇게 initialize 해준다\n",
    "        min_idx = i\n",
    "        for j in range(i + 1, len(array)):\n",
    "            # 1. min_idx를 해당 범위마다 갱신\n",
    "            if array[min_idx] > array[j]:\n",
    "                min_idx = j\n",
    "        # 2. 그 자리에 대입이 끝이 아니라 정렬 swap이 포인트!\n",
    "        array[i], array[min_idx] = array[min_idx], array[i]\n",
    "    \n",
    "    return array"
   ]
  },
  {
   "cell_type": "code",
   "execution_count": 20,
   "metadata": {},
   "outputs": [
    {
     "name": "stdout",
     "output_type": "stream",
     "text": [
      "정렬 전 : [7, 5, 9, 0, 3, 1, 6, 2, 4, 8]\n",
      "정렬 후 : [0, 1, 2, 3, 4, 5, 6, 7, 8, 9]\n"
     ]
    }
   ],
   "source": [
    "print(f'정렬 전 : {array}')\n",
    "array_sorted = select_sorting(array)    \n",
    "print(f'정렬 후 : {array_sorted}')"
   ]
  },
  {
   "cell_type": "markdown",
   "metadata": {},
   "source": [
    "- 선택정렬은 N번 만큼 가장 작은 수를 찾게 됨\n",
    "- N + N-1 + N-2 ... -> n(n+1)/2 -> O(N2)"
   ]
  },
  {
   "cell_type": "markdown",
   "metadata": {},
   "source": [
    "### 2. 삽입정렬\n",
    "- 앞부분에 정렬이 다 되어있다고 가정\n",
    "- 그리고 매 시기마다 해당 원소를 최적의 위치에 배정"
   ]
  },
  {
   "cell_type": "markdown",
   "metadata": {},
   "source": [
    "![insertion_sorting](..\\png\\insertion_sorting.png)"
   ]
  },
  {
   "cell_type": "code",
   "execution_count": 21,
   "metadata": {},
   "outputs": [
    {
     "name": "stdout",
     "output_type": "stream",
     "text": [
      "10 9 8 7 6 5 4 3 2 1 "
     ]
    }
   ],
   "source": [
    "for i in range(10, 0, -1):\n",
    "    print(i, end =' ')"
   ]
  },
  {
   "cell_type": "code",
   "execution_count": 22,
   "metadata": {},
   "outputs": [],
   "source": [
    "def insertion_sorting(array):\n",
    "\n",
    "    for i in range(1, len(array)):\n",
    "        for j in range(i, 0, -1):\n",
    "            # 현재 대상이 되는 i = 3의 '0'이 9,7,5 각각과 비교하면서 자리를 찾게됨\n",
    "            if array[j] < array[j-1]:\n",
    "                array[j], array[j-1] = array[j-1], array[j]\n",
    "            else :\n",
    "                break\n",
    "            \n",
    "    return array"
   ]
  },
  {
   "cell_type": "code",
   "execution_count": 23,
   "metadata": {},
   "outputs": [
    {
     "name": "stdout",
     "output_type": "stream",
     "text": [
      "정렬 전 : [0, 1, 2, 3, 4, 5, 6, 7, 8, 9]\n",
      "정렬 후 : [0, 1, 2, 3, 4, 5, 6, 7, 8, 9]\n"
     ]
    }
   ],
   "source": [
    "print(f'정렬 전 : {array}')\n",
    "array_sorted = insertion_sorting(array)    \n",
    "print(f'정렬 후 : {array_sorted}')"
   ]
  },
  {
   "cell_type": "markdown",
   "metadata": {},
   "source": [
    "- 삽입정렬도 이중 for문 두개라 \n",
    "- N + N-1 + N-2 ... -> n(n+1)/2 -> O(N2)\n",
    "- 현재 데이터가 거의 정렬된 상태라면 매우 빠르게 동작함 -> 최선의 경우 O(N)"
   ]
  },
  {
   "cell_type": "markdown",
   "metadata": {},
   "source": [
    "### 3. 퀵정렬\n",
    "- 일반적인 상황에서 가장 많이 사용되는 정렬 알고리즘\n",
    "- 기준 데이터 설정 후 그 기준보다 큰 데이터와 작은 데이터의 위치를 바꾸는 방법\n",
    "- 가장 기본적인 퀵 정렬은 첫 번째 데이터를 기준으로 설정\n",
    "- 시간복잡도 NlogN : (N개)*(분할정도 log2N)\n",
    "    최악의 경우 N**2"
   ]
  },
  {
   "cell_type": "markdown",
   "metadata": {},
   "source": [
    "![quick_sorting](..\\png\\quick_sorting.png)"
   ]
  },
  {
   "cell_type": "markdown",
   "metadata": {},
   "source": [
    "- 피벗값 임의 설정 (보통 첫번째 값)\n",
    "- 왼쪽구간에서는 피벗보다 큰 값을, 우측구간에서는 작은 값을 찾는다\n",
    "    - 둘이 맞바꾼다\n",
    "    - 이거를 서로 만나거나 엇갈릴때 까지한다\n",
    "        - 만나면 만나는지점과 피벗값을 바꾼다\n",
    "- 이러면 좌측에는 피벗값보다 작은값만이, 우측에서는 큰 값만이 남는다\n",
    "    - 좌측과 우측 각 영역에서 퀵 정렬을 따로 수행한다"
   ]
  },
  {
   "cell_type": "code",
   "execution_count": 24,
   "metadata": {},
   "outputs": [],
   "source": [
    "def quick_sorting(array, start, end):\n",
    "    # 원소가 1개인 경우는 정렬할 필요 없으니 종료시킴\n",
    "    if start>=end :\n",
    "        return \n",
    "    pivot = start\n",
    "    left = start + 1\n",
    "    right = end\n",
    "    # 엇갈리기 전까지 반복수행\n",
    "    while(left<=right): \n",
    "        # 좌측구간 : 피벗보다 큰 데이터를 찾을때까지 전진\n",
    "        while (left <= end and array[left] <= array[pivot]):\n",
    "            left += 1\n",
    "        # 우측구간 : 피벗보다 작은 데이터를 찾을때까지 전진\n",
    "        while (right > start and array[right] >= array[pivot]):\n",
    "            right -= 1\n",
    "        # 엇갈린경우 : 작은데이터를 피벗과 교체\n",
    "        if (left > right):\n",
    "            array[right], array[pivot] = array[pivot], array[right]\n",
    "        # 엇갈리지 않고 일반적인 경우 : 작은 데이터와 큰 데이터를 교체\n",
    "        else :\n",
    "            array[left], array[right] = array[right], array[left]\n",
    "    # 좌측과 우측 영역에서 각각 퀵 정렬 수행\n",
    "    quick_sorting(array, start, right - 1)\n",
    "    quick_sorting(array, right+1, end) \n",
    "            \n",
    "    return array"
   ]
  },
  {
   "cell_type": "code",
   "execution_count": 25,
   "metadata": {},
   "outputs": [
    {
     "name": "stdout",
     "output_type": "stream",
     "text": [
      "정렬 전 : [0, 1, 2, 3, 4, 5, 6, 7, 8, 9]\n",
      "정렬 후 : [0, 1, 2, 3, 4, 5, 6, 7, 8, 9]\n"
     ]
    }
   ],
   "source": [
    "print(f'정렬 전 : {array}')\n",
    "array_sorted = quick_sorting(array, 0, len(array)-1)    \n",
    "print(f'정렬 후 : {array_sorted}')"
   ]
  },
  {
   "cell_type": "markdown",
   "metadata": {},
   "source": [
    "#### python 특색을 이용한 퀵 정렬 (슬라이싱, 리스트 컴프리헨션)\n",
    "- left side : 피벗을 제외한 영역에서 진행하면서 작은 값은 append\n",
    "- 이런 원리다 보니까 위에서 일일이, idx단위로 개발했던게 필요없어짐!!\n",
    "- 이게 진짜 간결하고 딱 이론에 맞다는걸 이해해야함!"
   ]
  },
  {
   "cell_type": "code",
   "execution_count": 26,
   "metadata": {},
   "outputs": [],
   "source": [
    "def quick_sorting(array):\n",
    "    # 원소가 1개이하는 정렬할 필요 없으니 종료시킴\n",
    "    if len(array)<=1:\n",
    "        return array \n",
    "    pivot = array[0]\n",
    "    tail = array[1:]\n",
    "    \n",
    "    left_side = [x for x in tail if x <= pivot] # 분할되고 나서 왼쪽 부분\n",
    "    right_side = [x for x in tail if x > pivot] # 분할 후 우측 부분\n",
    "    \n",
    "    # 분할 이후 좌측과 우측 각각에서 퀵 정렬 수행하고, 전체 리스트 반환\n",
    "    array = quick_sorting(left_side) + [pivot] + quick_sorting(right_side)\n",
    "    return array"
   ]
  },
  {
   "cell_type": "code",
   "execution_count": 27,
   "metadata": {},
   "outputs": [
    {
     "name": "stdout",
     "output_type": "stream",
     "text": [
      "정렬 전 : [0, 1, 2, 3, 4, 5, 6, 7, 8, 9]\n",
      "정렬 후 : [0, 1, 2, 3, 4, 5, 6, 7, 8, 9]\n"
     ]
    }
   ],
   "source": [
    "print(f'정렬 전 : {array}')\n",
    "array_sorted = quick_sorting(array)    \n",
    "print(f'정렬 후 : {array_sorted}')"
   ]
  },
  {
   "cell_type": "markdown",
   "metadata": {},
   "source": [
    "### 4. 계수 정렬"
   ]
  }
 ],
 "metadata": {
  "kernelspec": {
   "display_name": "Python 3.8.13 ('kotorch')",
   "language": "python",
   "name": "python3"
  },
  "language_info": {
   "codemirror_mode": {
    "name": "ipython",
    "version": 3
   },
   "file_extension": ".py",
   "mimetype": "text/x-python",
   "name": "python",
   "nbconvert_exporter": "python",
   "pygments_lexer": "ipython3",
   "version": "3.8.13"
  },
  "orig_nbformat": 4,
  "vscode": {
   "interpreter": {
    "hash": "e394b0e5950b2ed9ac02d3d0f43da50df004fa03f183c9ffe2862d4a06a95d21"
   }
  }
 },
 "nbformat": 4,
 "nbformat_minor": 2
}
