{
 "cells": [
  {
   "cell_type": "markdown",
   "metadata": {},
   "source": [
    "## 코딩테스트 공부에 도움되는 팁 저장"
   ]
  },
  {
   "cell_type": "markdown",
   "metadata": {},
   "source": [
    "### 1. 시험 출제 유형 및 유형별 특징 정리된 블로그\n",
    "- https://velog.io/@pppp0722/%EC%BD%94%EB%94%A9%ED%85%8C%EC%8A%A4%ED%8A%B8-%EB%AC%B8%EC%A0%9C-%EC%9C%A0%ED%98%95-%EC%A0%95%EB%A6%AC#%EF%B8%8F-%EC%BD%94%EB%94%A9%ED%85%8C%EC%8A%A4%ED%8A%B8-%EB%AC%B8%EC%A0%9C-%EC%9C%A0%ED%98%95-%EC%A0%95%EB%A6%AC\n",
    "- 유형별 특징을 읽고 필요한 우선순위를 정해서 해당 유형부터 양치기\n",
    "- 이코테 강의 수강과 복습이 끝나는 뒤로 **구현(시뮬레이션, 완전탐색)** 유형을 가장 중요시하며 백준풀이 ㄱㄱ\n",
    "- 그리고 그 전후로 프로그래머스 고득점 kit도 다 풀기 (문제 수 적은편 유형별 5개정도?)\n",
    "    - https://school.programmers.co.kr/learn/challenges?tab=algorithm_practice_kit\n",
    "    - 특히 이거통해서 해시, 스택/큐, 힙 같은 자료구조 공부 하기"
   ]
  },
  {
   "cell_type": "markdown",
   "metadata": {},
   "source": [
    "### 2. 백준 유형별 문제 정리된 사이트\n",
    "- https://devjeong.com/algorithm/algorithm-1/\n",
    "- 그리디, 완전탐색, dfs, bfs, 이분탐색 등등 유형도 많고 유형별 문제도 많고 그게 다 티어별로 깔끔히 정리되어 있음 "
   ]
  },
  {
   "cell_type": "markdown",
   "metadata": {},
   "source": [
    "### 3. 백준 바킹독 문제집\n",
    "- https://github.com/encrypted-def/basic-algo-lecture/blob/master/workbook.md\n",
    "- 유형별로 바킹독이 연습문제, 기본문제, 응용문제 권장되는 정도로 정리한 사이트"
   ]
  }
 ],
 "metadata": {
  "language_info": {
   "name": "python"
  },
  "orig_nbformat": 4
 },
 "nbformat": 4,
 "nbformat_minor": 2
}
